{
 "cells": [
  {
   "cell_type": "markdown",
   "metadata": {},
   "source": [
    "# Laboratorium 4 - rekomendacje dla portali informacyjnych\n",
    "\n",
    "## Przygotowanie\n",
    "\n",
    " * pobierz i wypakuj dataset: https://mind201910small.blob.core.windows.net/release/MINDsmall_train.zip\n",
    "   * więcej możesz poczytać tutaj: https://learn.microsoft.com/en-us/azure/open-datasets/dataset-microsoft-news\n",
    " * [opcjonalnie] Utwórz wirtualne środowisko\n",
    " `python3 -m venv ./recsyslab4`\n",
    " * zainstaluj potrzebne biblioteki:\n",
    " `pip install nltk sklearn`"
   ]
  },
  {
   "cell_type": "markdown",
   "metadata": {},
   "source": [
    "## Część 1. - przygotowanie danych"
   ]
  },
  {
   "cell_type": "code",
   "execution_count": 36,
   "metadata": {},
   "outputs": [
    {
     "name": "stderr",
     "output_type": "stream",
     "text": [
      "[nltk_data] Downloading package stopwords to /Users/barto/nltk_data...\n",
      "[nltk_data]   Package stopwords is already up-to-date!\n"
     ]
    }
   ],
   "source": [
    "# importujemy wszystkie potrzebne pakiety\n",
    "\n",
    "import codecs\n",
    "from collections import defaultdict # mozesz uzyc zamiast zwyklego slownika, rozwaz wplyw na czas obliczen\n",
    "import math\n",
    "import re\n",
    "from string import punctuation\n",
    "\n",
    "import nltk\n",
    "nltk.download('stopwords')\n",
    "\n",
    "from nltk.corpus import stopwords\n",
    "from nltk.stem import RSLPStemmer\n",
    "from nltk.stem import WordNetLemmatizer\n",
    "from nltk.stem.lancaster import LancasterStemmer\n",
    "from nltk.stem.porter import PorterStemmer\n",
    "from nltk.stem.snowball import SnowballStemmer\n",
    "\n",
    "# mozesz uzyc do obliczania najbardziej podobnych tekstow zamiast liczenia \"na piechote\"\n",
    "# ale pamietaj o dostosowaniu formatu danych\n",
    "from sklearn.neighbors import NearestNeighbors\n",
    "\n",
    "# na potrzeby wizualizacji\n",
    "import matplotlib.pyplot as plt\n",
    "from wordcloud import WordCloud"
   ]
  },
  {
   "cell_type": "code",
   "execution_count": 37,
   "metadata": {},
   "outputs": [],
   "source": [
    "# definiujemy potrzebne zmienne\n",
    "\n",
    "PATH = './MINDsmall_train'\n",
    "STOPWORDS = set(stopwords.words('english'))"
   ]
  },
  {
   "cell_type": "code",
   "execution_count": 38,
   "metadata": {},
   "outputs": [
    {
     "name": "stdout",
     "output_type": "stream",
     "text": [
      "51282\n"
     ]
    }
   ],
   "source": [
    "# wczytujemy metadane artykułów\n",
    "\n",
    "def parse_news_entry(entry):\n",
    "    news_id, category, subcategory, title, abstract = entry.split('\\t')[:5]\n",
    "    return {\n",
    "        'news_id': news_id,\n",
    "        'category': category,\n",
    "        'subcategory': subcategory,\n",
    "        'title': title,\n",
    "        'abstract': abstract\n",
    "    }\n",
    "\n",
    "def get_news_metadata():\n",
    "    with codecs.open(f'{PATH}/news.tsv', 'r', 'UTF-8') as f:\n",
    "        raw = [x for x in f.read().split('\\n') if x]\n",
    "        parsed_entries = [parse_news_entry(entry) for entry in raw]\n",
    "        return {x['news_id']: x for x in parsed_entries}\n",
    "\n",
    "news = get_news_metadata()\n",
    "news_ids = sorted(list(news.keys()))\n",
    "news_indices = {x[1]: x[0] for x in enumerate(news_ids)}\n",
    "print(len(news))"
   ]
  },
  {
   "cell_type": "code",
   "execution_count": 39,
   "metadata": {},
   "outputs": [
    {
     "name": "stdout",
     "output_type": "stream",
     "text": [
      "50000\n"
     ]
    }
   ],
   "source": [
    "def parse_history_entry(entry):\n",
    "    _id, user_id, _time, history, _impressions = entry.split('\\t')\n",
    "    history = [x for x in history.split() if x]\n",
    "    return user_id, history\n",
    "\n",
    "def get_users_history():\n",
    "    with codecs.open(f'{PATH}/behaviors.tsv', 'r', 'UTF-8') as f:\n",
    "        lines = [x for x in f.read().split('\\n') if x]\n",
    "        entries = [parse_history_entry(x) for x in lines]\n",
    "        return dict(entries)\n",
    "\n",
    "users_history = get_users_history()\n",
    "test_users = 'U53231', 'U89744', 'U10045', 'U92486', 'U70879'\n",
    "print(len(users_history))"
   ]
  },
  {
   "cell_type": "markdown",
   "metadata": {},
   "source": [
    "## Część 2. - TF-IDF"
   ]
  },
  {
   "cell_type": "code",
   "execution_count": null,
   "metadata": {},
   "outputs": [
    {
     "name": "stdout",
     "output_type": "stream",
     "text": [
      "51282\n"
     ]
    }
   ],
   "source": [
    "from typing import Literal\n",
    "\n",
    "# normalizujemy teksty na potrzeby dalszego przetwarzania\n",
    "\n",
    "\n",
    "def preprocess_text(text: str) -> list[str]:\n",
    "    # zamieniamy wszystkie ciagi bialych znakow na pojedyncze spacje\n",
    "    text = \" \".join(text.split())\n",
    "    # usuwamy znaki interpunkcyjne\n",
    "    for p in punctuation:\n",
    "        text = text.replace(p, \"\")\n",
    "    # usuwamy wszystkie liczby\n",
    "    for n in \"0123456789\":\n",
    "        text = text.replace(n, \"\")\n",
    "    # podmieniamy wszystkie wielkie litery\n",
    "    text = text.lower()\n",
    "    # dzielimy na tokeny\n",
    "    tokens = set(text.split())\n",
    "    # usuwamy stopwords\n",
    "    tokens -= STOPWORDS\n",
    "\n",
    "    return list(tokens)\n",
    "\n",
    "\n",
    "def stem_texts(\n",
    "    corpus: list[str],\n",
    "    method: Literal[\"Lancaster\", \"Porter\", \"Snowball\"] = \"Lancaster\",\n",
    ") -> list[list[str]]:\n",
    "    # stemmer = ...  # przetestuj rozne stemmery\n",
    "    match method:\n",
    "        case \"Lancaster\":\n",
    "            stemmer = LancasterStemmer()\n",
    "        case \"Porter\":\n",
    "            stemmer = PorterStemmer()\n",
    "        case \"Snowball\":\n",
    "            stemmer = SnowballStemmer(language=\"english\")\n",
    "    return [[stemmer.stem(word) for word in preprocess_text(text)] for text in corpus]\n",
    "\n",
    "\n",
    "texts = [news[news_id][\"abstract\"] for news_id in news_ids]\n",
    "stemmed_texts = stem_texts(texts, method=\"Porter\")\n",
    "print(len(stemmed_texts))"
   ]
  },
  {
   "cell_type": "code",
   "execution_count": 28,
   "metadata": {},
   "outputs": [
    {
     "name": "stdout",
     "output_type": "stream",
     "text": [
      "\"I think we have a really good team, and a team that can really do some special, good things because that group is very close in there.\" - Brian Schmetzer\n",
      "\n",
      "special thing group team brian realli close think schmetzer good\n"
     ]
    }
   ],
   "source": [
    "# porownajmy teksty przed i po przetworzeniu\n",
    "\n",
    "print(texts[2] + '\\n')\n",
    "print(' '.join(stemmed_texts[2]))"
   ]
  },
  {
   "cell_type": "code",
   "execution_count": null,
   "metadata": {},
   "outputs": [
    {
     "name": "stdout",
     "output_type": "stream",
     "text": [
      "41884\n"
     ]
    }
   ],
   "source": [
    "# tworzymy liste wszystkich slow w korpusie\n",
    "\n",
    "def get_all_words_sorted(corpus: list[list[str]]) -> list[str]:\n",
    "    # generujemy posortowana alfabetycznie liste wszystkich slow (tokenow)\n",
    "    all_tokens = set()\n",
    "    for text in corpus:\n",
    "        all_tokens |= set(text)\n",
    "    return sorted(all_tokens)\n",
    "\n",
    "wordlist = get_all_words_sorted(stemmed_texts)\n",
    "word_indices = {x[1]: x[0] for x in enumerate(wordlist)}\n",
    "print(len(wordlist))"
   ]
  },
  {
   "cell_type": "code",
   "execution_count": null,
   "metadata": {},
   "outputs": [],
   "source": [
    "# obliczamy liczbe tekstow, w ktorych wystapilo kazde ze slow\n",
    "# pamietaj, ze jesli slowo wystapilo w danym tekscie wielokrotnie, to liczymy je tylko raz\n",
    "\n",
    "\n",
    "def get_document_frequencies(\n",
    "    corpus: list[list[str]],\n",
    "    wordlist: list[str],\n",
    ") -> defaultdict[str, int]:\n",
    "    # return {word -> count}\n",
    "    f = defaultdict(lambda: 0)\n",
    "    for text in corpus:\n",
    "        for word in set(text):\n",
    "            f[word] += 1\n",
    "    return f\n",
    "\n",
    "\n",
    "document_frequency = get_document_frequencies(stemmed_texts, wordlist)"
   ]
  },
  {
   "cell_type": "code",
   "execution_count": null,
   "metadata": {},
   "outputs": [],
   "source": [
    "# obliczamy liczbe wystapien kazdego slowa w kazdym tekscie\n",
    "\n",
    "\n",
    "def get_term_frequencies(\n",
    "    corpus: list[list[str]],\n",
    "    news_indices: list[str],\n",
    ") -> defaultdict[str, defaultdict[str, int]]:\n",
    "    # return {news_id -> {word -> count}}\n",
    "    f = defaultdict(lambda: defaultdict(lambda: 0))\n",
    "    for news_id, text in zip(news_indices, corpus):\n",
    "        for word in text:\n",
    "            f[news_id][word] += 1\n",
    "    return f\n",
    "\n",
    "\n",
    "term_frequency = get_term_frequencies(stemmed_texts, news_indices)"
   ]
  },
  {
   "cell_type": "code",
   "execution_count": 46,
   "metadata": {},
   "outputs": [
    {
     "data": {
      "text/plain": [
       "defaultdict(<function __main__.get_term_frequencies.<locals>.<lambda>.<locals>.<lambda>()>,\n",
       "            {'special': 1,\n",
       "             'thing': 1,\n",
       "             'group': 1,\n",
       "             'team': 1,\n",
       "             'brian': 1,\n",
       "             'realli': 1,\n",
       "             'close': 1,\n",
       "             'think': 1,\n",
       "             'schmetzer': 1,\n",
       "             'good': 1})"
      ]
     },
     "execution_count": 46,
     "metadata": {},
     "output_type": "execute_result"
    }
   ],
   "source": [
    "# sprawdzmy wyniki\n",
    "\n",
    "term_frequency[news_ids[2]]"
   ]
  },
  {
   "cell_type": "code",
   "execution_count": null,
   "metadata": {},
   "outputs": [],
   "source": [
    "# obliczamy metryke tf_idf\n",
    "from math import log\n",
    "\n",
    "\n",
    "def calculate_tf_idf(\n",
    "    term_frequency: defaultdict[str, defaultdict[str, int]],\n",
    "    document_frequency: defaultdict[str, int],\n",
    "    corpus_size: int,\n",
    ") -> defaultdict[str, defaultdict[str, float]]:\n",
    "    # return {news_id -> {word -> tf_idf}}\n",
    "    tf_idf = defaultdict(lambda: defaultdict(lambda: 0.0))\n",
    "    for news_id in term_frequency:\n",
    "        for word in term_frequency[news_id]:\n",
    "            tf_idf[news_id][word] = term_frequency[news_id][word] * log(corpus_size / document_frequency[word])\n",
    "    return tf_idf\n",
    "\n",
    "\n",
    "tf_idf = calculate_tf_idf(term_frequency, document_frequency, len(news_ids))"
   ]
  },
  {
   "cell_type": "code",
   "execution_count": 51,
   "metadata": {},
   "outputs": [
    {
     "data": {
      "text/plain": [
       "defaultdict(<function __main__.calculate_tf_idf.<locals>.<lambda>.<locals>.<lambda>()>,\n",
       "            {'special': 4.765161897298483,\n",
       "             'thing': 4.111693200556713,\n",
       "             'group': 4.261685870235309,\n",
       "             'team': 3.078678194374417,\n",
       "             'brian': 5.624739267315748,\n",
       "             'realli': 4.853630545286091,\n",
       "             'close': 3.9244235881453897,\n",
       "             'think': 4.360459856758821,\n",
       "             'schmetzer': 9.458800731274183,\n",
       "             'good': 4.0427003290697625})"
      ]
     },
     "execution_count": 51,
     "metadata": {},
     "output_type": "execute_result"
    }
   ],
   "source": [
    "# sprawdzmy wyniki\n",
    "\n",
    "tf_idf[news_ids[2]]"
   ]
  },
  {
   "cell_type": "markdown",
   "metadata": {},
   "source": [
    "## Część 3. - Podobieństwo tekstów"
   ]
  },
  {
   "cell_type": "code",
   "execution_count": 52,
   "metadata": {},
   "outputs": [
    {
     "data": {
      "text/plain": [
       "40.992934972419235"
      ]
     },
     "execution_count": 52,
     "metadata": {},
     "output_type": "execute_result"
    }
   ],
   "source": [
    "# obliczmy odleglosc miedzy dwoma artykulami\n",
    "# przetestuj rozne metryki odleglosci i wybierz najlepsza\n",
    "from math import sqrt\n",
    "\n",
    "def calculate_distance(\n",
    "    tf_idf: defaultdict[str, defaultdict[str, float]],\n",
    "    id1: str,\n",
    "    id2: str,\n",
    "    method: Literal[\"euclidean\"] = \"euclidean\",\n",
    ") -> float:\n",
    "    match method:\n",
    "        case \"euclidean\":\n",
    "            d = sqrt(sum(\n",
    "                (tf_idf[id1][word] - tf_idf[id2][word]) ** 2\n",
    "                for word in set(tf_idf[id1].keys()) | set(tf_idf[id2].keys())\n",
    "            ))\n",
    "        case _:\n",
    "            raise ValueError(f\"Unknown method: {method}\")\n",
    "\n",
    "    return d\n",
    "\n",
    "\n",
    "calculate_distance(tf_idf, news_ids[2], news_ids[1])"
   ]
  },
  {
   "cell_type": "code",
   "execution_count": null,
   "metadata": {},
   "outputs": [
    {
     "name": "stdout",
     "output_type": "stream",
     "text": [
      "id: N42782\n",
      "\ttitle: Three takeaways from Yankees' ALCS Game 5 victory over the Astros\n",
      "\ttext: The Yankees kept hope alive thanks to some impressive starting pitching and a pair of early home runs.\n"
     ]
    }
   ],
   "source": [
    "# funkcja pomocnicza do wyswietlania artykulow\n",
    "def print_news_entry(n_id: str, corpus: dict[str, dict[str, str]]):\n",
    "    print(f'id: {n_id}\\n\\ttitle: {corpus[n_id][\"title\"]}\\n\\ttext: {corpus[n_id][\"abstract\"]}')\n",
    "\n",
    "print_news_entry('N42782', news)"
   ]
  },
  {
   "cell_type": "code",
   "execution_count": null,
   "metadata": {
    "scrolled": true
   },
   "outputs": [],
   "source": [
    "# wyznaczmy k najpodobniejszych tekstow do danego\n",
    "# pamietaj o odpowiedniej kolejnosci sortowania w zaleznosci od wykorzystanej metryki\n",
    "# pamietaj, zeby wsrod podobnych tekstow nie bylo danego\n",
    "\n",
    "\n",
    "def get_k_most_similar_news(\n",
    "    tf_idf: defaultdict[str, defaultdict[str, float]],\n",
    "    n_id: str,\n",
    "    k: int,\n",
    ") -> list[str]:\n",
    "    ...\n",
    "\n",
    "\n",
    "def print_k_most_similar_news(\n",
    "    tf_idf: defaultdict[str, defaultdict[str, float]],\n",
    "    n_id: str,\n",
    "    k: int,\n",
    "    corpus: dict[str, dict[str, str]],\n",
    "):\n",
    "    similar = get_k_most_similar_news(tf_idf, n_id, k)\n",
    "    print_news_entry(n_id, corpus)\n",
    "    print(f\"\\n{k} most similar:\")\n",
    "    for s_id in similar:\n",
    "        print_news_entry(s_id, corpus)\n",
    "\n",
    "\n",
    "print_k_most_similar_news(tf_idf, news_ids[42337], 5, news)"
   ]
  },
  {
   "cell_type": "markdown",
   "metadata": {},
   "source": [
    "## Część 4. - Profile użytkowników"
   ]
  },
  {
   "cell_type": "code",
   "execution_count": null,
   "metadata": {},
   "outputs": [],
   "source": [
    "# oblicz srednia z wektorow tf-idf artykulow o zadanych id-kach\n",
    "def calculate_average_vector(tf_idf, news_ids: list[str]) -> dict[str, float]:\n",
    "    raise NotImplementedError()\n",
    "\n",
    "# wykorzystaj powyzsza funkcje, by policzyc wektor kazdego uzytkownika\n",
    "def calculate_users_vectors(tf_idf, users_history) -> dict[str, list]:\n",
    "    raise NotImplementedError()\n",
    "\n",
    "user_vectors = calculate_users_vectors(tf_idf, users_history)\n"
   ]
  },
  {
   "cell_type": "code",
   "execution_count": null,
   "metadata": {},
   "outputs": [],
   "source": [
    "# sprawdz wyliczony profil dla przykladowego uzytkownika\n",
    "print(sorted([(k,v) for k,v in user_vectors[test_users[0]].items() if v], key=lambda x: -x[1]))"
   ]
  },
  {
   "cell_type": "code",
   "execution_count": null,
   "metadata": {},
   "outputs": [],
   "source": [
    "# skorzystajmy ze znanej juz biblioteki, by to lepiej zwizualizowac\n",
    "def plot_vector(tf_idf_vector):\n",
    "    wordcloud = WordCloud(random_state=42, background_color='black', colormap='Set2')\n",
    "    wordcloud.generate_from_frequencies(frequencies=tf_idf_vector)\n",
    "    plt.figure()\n",
    "    plt.imshow(wordcloud, interpolation=\"bilinear\")\n",
    "    plt.axis(\"off\")\n",
    "    plt.show()\n",
    "\n",
    "plot_vector(user_vectors[test_users[0]])"
   ]
  },
  {
   "cell_type": "markdown",
   "metadata": {},
   "source": [
    "## Część 5. - Rekomendacje dla użytkowników"
   ]
  },
  {
   "cell_type": "code",
   "execution_count": null,
   "metadata": {},
   "outputs": [],
   "source": [
    "# wykorzystujac wektory tresci i profile uzytkownikow,\n",
    "#   wygeneruj liste k artykulow najlepiej dopasowanych do uzytkownika\n",
    "#   pamietaj o odsianiu artykulow, ktore uzytkownik juz kliknal\n",
    "\n",
    "def recommend(tf_idf, user_id, news, users_history, k):\n",
    "    raise NotImplementedError()\n",
    "\n",
    "# dla wybranego uzytkownika, korzystajac z juz zaimplementowanych funkcji,\n",
    "#   pokaz jego historie, profil (wordcloud) i rekomendacje"
   ]
  },
  {
   "cell_type": "markdown",
   "metadata": {},
   "source": [
    "## Część 6. - Ocena jakości"
   ]
  },
  {
   "cell_type": "code",
   "execution_count": null,
   "metadata": {},
   "outputs": [],
   "source": [
    "# jaccard index to metryka podobienstwa zbiorow, lekko ja zmodyfikujemy\n",
    "# przeciecie wektorow to minimum po kazdej wspolrzednej\n",
    "# unia wektorow to maksimum po kazdej wspolrzednej\n",
    "# jaccard index to iloraz sum tych dwoch wartosci\n",
    "\n",
    "def jaccard(v1, v2):\n",
    "    raise NotImplementedError()\n"
   ]
  },
  {
   "cell_type": "code",
   "execution_count": null,
   "metadata": {},
   "outputs": [],
   "source": [
    "# dla kazdego uzytkownika wygeneruj k-elementowa rekomendacje\n",
    "# policz jaccard index miedzy wektorem uzytkownika a srednim wektorem elementow z rekomendacji\n",
    "# porownaj wyniki dla dwoch roznych k i dwoch roznych metryk podobienstwa\n",
    "\n",
    "raise NotImplementedError()"
   ]
  }
 ],
 "metadata": {
  "kernelspec": {
   "display_name": "venv",
   "language": "python",
   "name": "python3"
  },
  "language_info": {
   "codemirror_mode": {
    "name": "ipython",
    "version": 3
   },
   "file_extension": ".py",
   "mimetype": "text/x-python",
   "name": "python",
   "nbconvert_exporter": "python",
   "pygments_lexer": "ipython3",
   "version": "3.10.14"
  }
 },
 "nbformat": 4,
 "nbformat_minor": 2
}
