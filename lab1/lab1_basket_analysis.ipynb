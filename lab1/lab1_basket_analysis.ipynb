{
 "cells": [
  {
   "cell_type": "markdown",
   "metadata": {},
   "source": [
    "# Laboratorium 1 - analiza koszykowa\n",
    "\n",
    "## Przygotowanie\n",
    "\n",
    " * pobierz i wypakuj dataset: https://kaggle.com/datasets/rashikrahmanpritom/groceries-dataset-for-market-basket-analysismba?resource=download&select=basket.csv\n",
    "   * alternatywnie, pobierz plik `basket.csv` z Teamsów\n",
    " * [opcjonalnie] Utwórz wirtualne środowisko\n",
    " `python3 -m venv ./recsyslab1`\n",
    " * zainstaluj potrzebne biblioteki:\n",
    " `pip install more-itertools`"
   ]
  },
  {
   "cell_type": "markdown",
   "metadata": {},
   "source": [
    "## Część 1. - przygotowanie danych"
   ]
  },
  {
   "cell_type": "code",
   "execution_count": 1,
   "metadata": {},
   "outputs": [],
   "source": [
    "# importujemy wszystkie potrzebne pakiety\n",
    "\n",
    "from more_itertools import powerset_of_sets"
   ]
  },
  {
   "cell_type": "code",
   "execution_count": 42,
   "metadata": {},
   "outputs": [],
   "source": [
    "# definiujemy stale\n",
    "\n",
    "PATH = './basket.csv'\n",
    "EPSILON = 0.0001\n",
    "K = 4"
   ]
  },
  {
   "cell_type": "code",
   "execution_count": 43,
   "metadata": {},
   "outputs": [],
   "source": [
    "# wczytujemy dane o koszykach\n",
    "\n",
    "def read_baskets(path: str) -> list[tuple[str]]:\n",
    "    with open(path) as f:\n",
    "        raw = f.read()\n",
    "    baskets = [set([y.lower() for y in x.split(',') if y]) for x in raw.split('\\n')[1:] if x]\n",
    "    return baskets\n",
    "\n",
    "def unique_products(baskets: list[tuple[str]]) -> list[str]:\n",
    "    products = set()\n",
    "    for basket in baskets:\n",
    "        products.update(basket)\n",
    "    return sorted(list(products))\n",
    "\n",
    "baskets = read_baskets(PATH)\n",
    "products = unique_products(baskets)"
   ]
  },
  {
   "cell_type": "code",
   "execution_count": 44,
   "metadata": {},
   "outputs": [
    {
     "data": {
      "text/plain": [
       "[{'pastry', 'salty snack', 'whole milk'},\n",
       " {'sausage', 'semi-finished bread', 'whole milk', 'yogurt'},\n",
       " {'pickled vegetables', 'soda'},\n",
       " {'canned beer', 'misc. beverages'},\n",
       " {'hygiene articles', 'sausage'},\n",
       " {'rolls/buns', 'sausage', 'whole milk'},\n",
       " {'soda', 'whole milk'},\n",
       " {'frankfurter', 'soda', 'whipped/sour cream'},\n",
       " {'curd', 'frankfurter'},\n",
       " {'beef', 'white bread'}]"
      ]
     },
     "execution_count": 44,
     "metadata": {},
     "output_type": "execute_result"
    }
   ],
   "source": [
    "baskets[:10]"
   ]
  },
  {
   "cell_type": "code",
   "execution_count": 46,
   "metadata": {},
   "outputs": [
    {
     "data": {
      "text/plain": [
       "['abrasive cleaner',\n",
       " 'artif. sweetener',\n",
       " 'baby cosmetics',\n",
       " 'bags',\n",
       " 'baking powder',\n",
       " 'bathroom cleaner',\n",
       " 'beef',\n",
       " 'berries',\n",
       " 'beverages',\n",
       " 'bottled beer']"
      ]
     },
     "execution_count": 46,
     "metadata": {},
     "output_type": "execute_result"
    }
   ],
   "source": [
    "products[:10]"
   ]
  },
  {
   "cell_type": "code",
   "execution_count": 56,
   "metadata": {},
   "outputs": [
    {
     "data": {
      "text/plain": [
       "(14963, 167)"
      ]
     },
     "execution_count": 56,
     "metadata": {},
     "output_type": "execute_result"
    }
   ],
   "source": [
    "len(baskets), len(products)"
   ]
  },
  {
   "cell_type": "markdown",
   "metadata": {},
   "source": [
    "## Część 2. - obliczanie wskaźników"
   ]
  },
  {
   "cell_type": "code",
   "execution_count": 49,
   "metadata": {},
   "outputs": [
    {
     "name": "stderr",
     "output_type": "stream",
     "text": [
      "100%|██████████████████████████████████████████████████████████████████████| 14963/14963 [00:12<00:00, 1180.92it/s]\n"
     ]
    }
   ],
   "source": [
    "# obliczamy strukture danych (np. slownik albo graf) przechowujaca wszystkie interesujace wartosci `support`\n",
    "\n",
    "from collections import defaultdict\n",
    "from tqdm import tqdm\n",
    "\n",
    "def key(basket: tuple[str]) -> str:\n",
    "    return \",\".join(sorted(basket))\n",
    "\n",
    "def get_supports(baskets: list[set[str]], all_products: list[str], epsilon: float):\n",
    "    # raise NotImplementedError()\n",
    "    N = len(baskets)\n",
    "    supports = {}\n",
    "\n",
    "    def supp(subbasket: set[str]) -> float:\n",
    "        return 1/N * sum(1 for basket in baskets if subbasket.issubset(basket))\n",
    "        \n",
    "    for basket in tqdm(baskets):            \n",
    "        for subbasket in powerset_of_sets(basket):\n",
    "            if len(subbasket) > K:\n",
    "                break\n",
    "            if len(subbasket) > 0 and (k := key(subbasket)) not in supports:\n",
    "                supports[k] = supp(subbasket)\n",
    "    return supports\n",
    "\n",
    "    \n",
    "supports = get_supports(baskets, products, EPSILON)\n",
    "# supports"
   ]
  },
  {
   "cell_type": "code",
   "execution_count": 50,
   "metadata": {},
   "outputs": [],
   "source": [
    "# definiujemy funkcje obliczajace support, confidence i lift\n",
    "\n",
    "def support(supports, products: set[str]) -> float:\n",
    "    return supports[key(products)]\n",
    "\n",
    "def confidence(supports, prior_products: set[str], following_products: set[str]) -> float:\n",
    "    return support(supports, prior_products | following_products) / support(supports, prior_products)\n",
    "    \n",
    "def lift(supports, prior_products: set[str], following_products: tuple[str]) -> float:\n",
    "    return support(supports, prior_products | following_products) / (support(supports, prior_products) * support(supports, following_products))"
   ]
  },
  {
   "cell_type": "code",
   "execution_count": 51,
   "metadata": {},
   "outputs": [
    {
     "name": "stdout",
     "output_type": "stream",
     "text": [
      "0.013967787208447505\n",
      "0.09569377990430622\n",
      "1.114292629344851\n"
     ]
    }
   ],
   "source": [
    "print(support(supports, {'whole milk', 'rolls/buns'}))\n",
    "print(confidence(supports, {'whole milk', 'rolls/buns'}, {'yogurt'}))\n",
    "print(lift(supports, {'whole milk', 'rolls/buns'}, {'yogurt'}))"
   ]
  },
  {
   "cell_type": "markdown",
   "metadata": {},
   "source": [
    "## Część 3. - generowanie rekomendacji"
   ]
  },
  {
   "cell_type": "code",
   "execution_count": 52,
   "metadata": {},
   "outputs": [],
   "source": [
    "# wyznaczamy liste potencjalnych rekomendacji\n",
    "# rekomendowane artykuly powinny miec lift > 1 i jak najwyzszy confidence\n",
    "\n",
    "def generate_basic_candidates(basket: set[str], products: list[str], supports) -> list[tuple[str, set[str], float, float]]:\n",
    "    # return [(item, subbasket, confidence, lift)]\n",
    "    # raise NotImplementedError()\n",
    "    recommendations = []\n",
    "    \n",
    "    for subbasket in powerset_of_sets(basket):\n",
    "        if len(subbasket) > K-1:\n",
    "            break\n",
    "        \n",
    "        if len(subbasket) == 0 or key(subbasket) not in supports:\n",
    "            continue\n",
    "            \n",
    "        for product in products:\n",
    "            if product not in basket and key({product}) in supports and key(subbasket | {product}) in supports:\n",
    "                lift_value = lift(supports, subbasket, {product})\n",
    "                confidence_value = confidence(supports, subbasket, {product})\n",
    "                \n",
    "                if support(supports, subbasket | {product}) > EPSILON and lift_value > 1:\n",
    "                    recommendations.append((product, subbasket, confidence_value, lift_value))\n",
    "                    \n",
    "    return sorted(recommendations, key=lambda t: t[2], reverse=True)\n",
    "    "
   ]
  },
  {
   "cell_type": "code",
   "execution_count": 53,
   "metadata": {},
   "outputs": [],
   "source": [
    "# zaproponuj drugi, bardziej zaawansowany algorytm, np.:\n",
    "# - jesli produkt X wystepuje w liscie kandydatow kilkukrotnie, oblicz srednia lub iloczyn confidence\n",
    "# - posortuj kandydatow po iloczynie configence i lift\n",
    "\n",
    "def generate_advanced_candidates(basket: set[str], products: list[str], supports) -> list[tuple[str, set[str], float, float]]:\n",
    "    # return [(item, subbasket, confidence, lift)]\n",
    "    raise NotImplementedError()"
   ]
  },
  {
   "cell_type": "code",
   "execution_count": 54,
   "metadata": {},
   "outputs": [
    {
     "name": "stdout",
     "output_type": "stream",
     "text": [
      "{'semi-finished bread', 'sausage', 'whole milk', 'yogurt'}\n"
     ]
    },
    {
     "data": {
      "text/plain": [
       "[('rolls/buns',\n",
       "  {'sausage', 'whole milk', 'yogurt'},\n",
       "  0.22727272727272724,\n",
       "  2.0660278360764384),\n",
       " ('pork',\n",
       "  {'sausage', 'whole milk', 'yogurt'},\n",
       "  0.18181818181818182,\n",
       "  4.901883701883701),\n",
       " ('soda',\n",
       "  {'sausage', 'whole milk', 'yogurt'},\n",
       "  0.18181818181818182,\n",
       "  1.8723643871613587),\n",
       " ('other vegetables',\n",
       "  {'sausage', 'whole milk', 'yogurt'},\n",
       "  0.13636363636363635,\n",
       "  1.1168084788774442),\n",
       " ('rolls/buns',\n",
       "  {'sausage', 'whole milk'},\n",
       "  0.12686567164179108,\n",
       "  1.153275239839684)]"
      ]
     },
     "execution_count": 54,
     "metadata": {},
     "output_type": "execute_result"
    }
   ],
   "source": [
    "print(baskets[1])\n",
    "generate_basic_candidates(baskets[1], products, supports)[:5]\n",
    "# generate_advanced_candidates(baskets[1], products, supports)"
   ]
  },
  {
   "cell_type": "code",
   "execution_count": 55,
   "metadata": {},
   "outputs": [
    {
     "name": "stdout",
     "output_type": "stream",
     "text": [
      "{'soda', 'domestic eggs', 'yogurt', 'photo/film', 'tropical fruit', 'root vegetables', 'white wine'}\n"
     ]
    },
    {
     "data": {
      "text/plain": [
       "[('whole milk', {'photo/film', 'yogurt'}, 0.5, 3.1661024121878967),\n",
       " ('onions',\n",
       "  {'root vegetables', 'tropical fruit', 'yogurt'},\n",
       "  0.42857142857142855,\n",
       "  21.16407355021216),\n",
       " ('pastry',\n",
       "  {'root vegetables', 'soda', 'tropical fruit'},\n",
       "  0.4,\n",
       "  7.732816537467699),\n",
       " ('frozen vegetables', {'white wine', 'yogurt'}, 0.375, 13.39170644391408),\n",
       " ('bottled beer',\n",
       "  {'tropical fruit', 'white wine'},\n",
       "  0.33333333333333337,\n",
       "  7.356440511307768)]"
      ]
     },
     "execution_count": 55,
     "metadata": {},
     "output_type": "execute_result"
    }
   ],
   "source": [
    "print(baskets[33])\n",
    "generate_basic_candidates(baskets[33], products, supports)[:5]\n",
    "# generate_advanced_candidates(baskets[33], products, supports)"
   ]
  },
  {
   "cell_type": "code",
   "execution_count": null,
   "metadata": {},
   "outputs": [],
   "source": []
  }
 ],
 "metadata": {
  "kernelspec": {
   "display_name": "Python 3 (ipykernel)",
   "language": "python",
   "name": "python3"
  },
  "language_info": {
   "codemirror_mode": {
    "name": "ipython",
    "version": 3
   },
   "file_extension": ".py",
   "mimetype": "text/x-python",
   "name": "python",
   "nbconvert_exporter": "python",
   "pygments_lexer": "ipython3",
   "version": "3.10.12"
  }
 },
 "nbformat": 4,
 "nbformat_minor": 4
}
