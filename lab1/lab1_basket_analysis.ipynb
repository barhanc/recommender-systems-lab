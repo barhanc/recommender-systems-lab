{
 "cells": [
  {
   "cell_type": "markdown",
   "metadata": {},
   "source": [
    "# Laboratorium 1 - analiza koszykowa\n",
    "\n",
    "## Przygotowanie\n",
    "\n",
    " * pobierz i wypakuj dataset: https://kaggle.com/datasets/rashikrahmanpritom/groceries-dataset-for-market-basket-analysismba?resource=download&select=basket.csv\n",
    "   * alternatywnie, pobierz plik `basket.csv` z Teamsów\n",
    " * [opcjonalnie] Utwórz wirtualne środowisko\n",
    " `python3 -m venv ./recsyslab1`\n",
    " * zainstaluj potrzebne biblioteki:\n",
    " `pip install more-itertools`"
   ]
  },
  {
   "cell_type": "markdown",
   "metadata": {},
   "source": [
    "## Część 1. - przygotowanie danych"
   ]
  },
  {
   "cell_type": "code",
   "execution_count": 1,
   "metadata": {},
   "outputs": [],
   "source": [
    "# importujemy wszystkie potrzebne pakiety\n",
    "\n",
    "from more_itertools import powerset_of_sets"
   ]
  },
  {
   "cell_type": "code",
   "execution_count": 2,
   "metadata": {},
   "outputs": [],
   "source": [
    "# definiujemy stale\n",
    "\n",
    "PATH = './basket.csv'\n",
    "EPSILON = 0.0005 # Changed to 0.0005 so that the minimal \n",
    "                 # number of baskets required to draw any statistical conclusions is EPSILON * len(baskets) ~= 7\n",
    "K = 4"
   ]
  },
  {
   "cell_type": "code",
   "execution_count": 3,
   "metadata": {},
   "outputs": [],
   "source": [
    "# wczytujemy dane o koszykach\n",
    "\n",
    "def read_baskets(path: str) -> list[tuple[str]]:\n",
    "    with open(path) as f:\n",
    "        raw = f.read()\n",
    "    baskets = [set([y.lower() for y in x.split(',') if y]) for x in raw.split('\\n')[1:] if x]\n",
    "    return baskets\n",
    "\n",
    "def unique_products(baskets: list[tuple[str]]) -> list[str]:\n",
    "    products = set()\n",
    "    for basket in baskets:\n",
    "        products.update(basket)\n",
    "    return sorted(list(products))\n",
    "\n",
    "baskets = read_baskets(PATH)\n",
    "products = unique_products(baskets)"
   ]
  },
  {
   "cell_type": "code",
   "execution_count": 4,
   "metadata": {},
   "outputs": [
    {
     "data": {
      "text/plain": [
       "[{'pastry', 'salty snack', 'whole milk'},\n",
       " {'sausage', 'semi-finished bread', 'whole milk', 'yogurt'},\n",
       " {'pickled vegetables', 'soda'},\n",
       " {'canned beer', 'misc. beverages'},\n",
       " {'hygiene articles', 'sausage'},\n",
       " {'rolls/buns', 'sausage', 'whole milk'},\n",
       " {'soda', 'whole milk'},\n",
       " {'frankfurter', 'soda', 'whipped/sour cream'},\n",
       " {'curd', 'frankfurter'},\n",
       " {'beef', 'white bread'}]"
      ]
     },
     "execution_count": 4,
     "metadata": {},
     "output_type": "execute_result"
    }
   ],
   "source": [
    "baskets[:10]"
   ]
  },
  {
   "cell_type": "code",
   "execution_count": 5,
   "metadata": {},
   "outputs": [
    {
     "data": {
      "text/plain": [
       "['abrasive cleaner',\n",
       " 'artif. sweetener',\n",
       " 'baby cosmetics',\n",
       " 'bags',\n",
       " 'baking powder',\n",
       " 'bathroom cleaner',\n",
       " 'beef',\n",
       " 'berries',\n",
       " 'beverages',\n",
       " 'bottled beer']"
      ]
     },
     "execution_count": 5,
     "metadata": {},
     "output_type": "execute_result"
    }
   ],
   "source": [
    "products[:10]"
   ]
  },
  {
   "cell_type": "code",
   "execution_count": 6,
   "metadata": {},
   "outputs": [
    {
     "data": {
      "text/plain": [
       "(14963, 167)"
      ]
     },
     "execution_count": 6,
     "metadata": {},
     "output_type": "execute_result"
    }
   ],
   "source": [
    "len(baskets), len(products)"
   ]
  },
  {
   "cell_type": "markdown",
   "metadata": {},
   "source": [
    "## Część 2. - obliczanie wskaźników"
   ]
  },
  {
   "cell_type": "code",
   "execution_count": 7,
   "metadata": {},
   "outputs": [
    {
     "name": "stderr",
     "output_type": "stream",
     "text": [
      "100%|███████████████████████████████████████████████████████████████████████| 14963/14963 [00:16<00:00, 918.61it/s]\n"
     ]
    }
   ],
   "source": [
    "# obliczamy strukture danych (np. slownik albo graf) przechowujaca wszystkie interesujace wartosci `support`\n",
    "\n",
    "from collections import defaultdict\n",
    "from tqdm import tqdm\n",
    "\n",
    "def key(basket: tuple[str]) -> str:\n",
    "    return \",\".join(sorted(basket))\n",
    "\n",
    "def get_supports(baskets: list[set[str]], all_products: list[str], epsilon: float):\n",
    "    # raise NotImplementedError()\n",
    "    N = len(baskets)\n",
    "    supports = defaultdict(lambda : epsilon)\n",
    "\n",
    "    def supp(subbasket: set[str]) -> float:\n",
    "        return 1/N * sum(1 for basket in baskets if subbasket.issubset(basket))\n",
    "        \n",
    "    for basket in tqdm(baskets):            \n",
    "        for subbasket in powerset_of_sets(basket):\n",
    "            if len(subbasket) > K:\n",
    "                break\n",
    "            if len(subbasket) == 0:\n",
    "                continue\n",
    "            if (k := key(subbasket)) not in supports and (s := supp(subbasket)) > epsilon:\n",
    "                supports[k] = s\n",
    "    return supports\n",
    "\n",
    "    \n",
    "supports = get_supports(baskets, products, EPSILON)"
   ]
  },
  {
   "cell_type": "code",
   "execution_count": 8,
   "metadata": {},
   "outputs": [],
   "source": [
    "# definiujemy funkcje obliczajace support, confidence i lift\n",
    "\n",
    "def support(supports, products: set[str]) -> float:\n",
    "    return supports[key(products)]\n",
    "\n",
    "def confidence(supports, prior_products: set[str], following_products: set[str]) -> float:\n",
    "    return support(supports, prior_products | following_products) / support(supports, prior_products)\n",
    "    \n",
    "def lift(supports, prior_products: set[str], following_products: tuple[str]) -> float:\n",
    "    return support(supports, prior_products | following_products) / (support(supports, prior_products) * support(supports, following_products))"
   ]
  },
  {
   "cell_type": "code",
   "execution_count": 9,
   "metadata": {},
   "outputs": [
    {
     "name": "stdout",
     "output_type": "stream",
     "text": [
      "0.013967787208447505\n",
      "0.09569377990430622\n",
      "1.114292629344851\n"
     ]
    }
   ],
   "source": [
    "print(support(supports, {'whole milk', 'rolls/buns'}))\n",
    "print(confidence(supports, {'whole milk', 'rolls/buns'}, {'yogurt'}))\n",
    "print(lift(supports, {'whole milk', 'rolls/buns'}, {'yogurt'}))"
   ]
  },
  {
   "cell_type": "markdown",
   "metadata": {},
   "source": [
    "## Część 3. - generowanie rekomendacji"
   ]
  },
  {
   "cell_type": "code",
   "execution_count": 10,
   "metadata": {},
   "outputs": [],
   "source": [
    "# wyznaczamy liste potencjalnych rekomendacji\n",
    "# rekomendowane artykuly powinny miec lift > 1 i jak najwyzszy confidence\n",
    "\n",
    "def generate_basic_candidates(basket: set[str], products: list[str], supports) -> list[tuple[str, set[str], float, float]]:\n",
    "    # return [(item, subbasket, confidence, lift)]\n",
    "    # raise NotImplementedError()\n",
    "    recommendations = []\n",
    "    \n",
    "    for subbasket in powerset_of_sets(basket):\n",
    "        if len(subbasket) > K-1:\n",
    "            break\n",
    "        if len(subbasket) == 0:\n",
    "            continue\n",
    "            \n",
    "        for product in products:\n",
    "            if product not in basket:\n",
    "                lift_value = lift(supports, subbasket, {product})\n",
    "                confidence_value = confidence(supports, subbasket, {product})\n",
    "                # If dataset contains enough data to draw conclusions and baskets are not independent\n",
    "                if support(supports, subbasket | {product}) > EPSILON and lift_value > 1:\n",
    "                    recommendations.append((product, subbasket, confidence_value, lift_value))\n",
    "                    \n",
    "    return sorted(recommendations, key=lambda t: t[2], reverse=True)\n",
    "    "
   ]
  },
  {
   "cell_type": "code",
   "execution_count": 16,
   "metadata": {},
   "outputs": [],
   "source": [
    "# zaproponuj drugi, bardziej zaawansowany algorytm, np.:\n",
    "# - jesli produkt X wystepuje w liscie kandydatow kilkukrotnie, oblicz srednia lub iloczyn confidence\n",
    "# - posortuj kandydatow po iloczynie configence i lift\n",
    "\n",
    "import math\n",
    "\n",
    "def generate_advanced_candidates(basket: set[str], products: list[str], supports) -> list[tuple[str, set[str], float, float]]:\n",
    "    # return [(item, subbasket, confidence, lift)]\n",
    "    # raise NotImplementedError()\n",
    "    \n",
    "    basic_recommendations = generate_basic_candidates(basket, products, supports)\n",
    "    recommendations = {}\n",
    "    \n",
    "    for item, subbasket, confidence_value, lift_value in basic_recommendations:\n",
    "        if item not in recommendations:\n",
    "            recommendations[item] = ([subbasket], [confidence_value], [lift_value])\n",
    "        else:\n",
    "            recommendations[item][0].append(subbasket)\n",
    "            recommendations[item][1].append(confidence_value)\n",
    "            recommendations[item][2].append(lift_value)\n",
    "\n",
    "    recommendations = [(product, *x) for product, x in recommendations.items()]\n",
    "    \n",
    "    return sorted(recommendations, key=lambda t: math.prod(t[2])**(1/len(t[2])), reverse=True)\n"
   ]
  },
  {
   "cell_type": "code",
   "execution_count": 21,
   "metadata": {},
   "outputs": [
    {
     "name": "stdout",
     "output_type": "stream",
     "text": [
      "{'semi-finished bread', 'yogurt', 'sausage', 'whole milk'}\n"
     ]
    },
    {
     "data": {
      "text/plain": [
       "[('rolls/buns',\n",
       "  {'sausage', 'whole milk'},\n",
       "  0.12686567164179108,\n",
       "  1.153275239839684),\n",
       " ('rolls/buns',\n",
       "  {'whole milk', 'yogurt'},\n",
       "  0.11976047904191615,\n",
       "  1.08868532679477),\n",
       " ('soda', {'sausage', 'whole milk'}, 0.11940298507462688, 1.2296124333596985),\n",
       " ('soda', {'sausage', 'yogurt'}, 0.11627906976744186, 1.1974423406264505),\n",
       " ('soda', {'sausage'}, 0.09856035437430787, 1.0149749363405152)]"
      ]
     },
     "execution_count": 21,
     "metadata": {},
     "output_type": "execute_result"
    }
   ],
   "source": [
    "print(baskets[1])\n",
    "generate_basic_candidates(baskets[1], products, supports)[:5]"
   ]
  },
  {
   "cell_type": "code",
   "execution_count": 22,
   "metadata": {},
   "outputs": [
    {
     "data": {
      "text/plain": [
       "[('rolls/buns',\n",
       "  [{'sausage', 'whole milk'}, {'whole milk', 'yogurt'}],\n",
       "  [0.12686567164179108, 0.11976047904191615],\n",
       "  [1.153275239839684, 1.08868532679477]),\n",
       " ('soda',\n",
       "  [{'sausage', 'whole milk'}, {'sausage', 'yogurt'}, {'sausage'}],\n",
       "  [0.11940298507462688, 0.11627906976744186, 0.09856035437430787],\n",
       "  [1.2296124333596985, 1.1974423406264505, 1.0149749363405152]),\n",
       " ('tropical fruit',\n",
       "  [{'semi-finished bread'}, {'whole milk', 'yogurt'}],\n",
       "  [0.07746478873239437, 0.0718562874251497],\n",
       "  [1.1431022029613578, 1.0603408567480421]),\n",
       " ('root vegetables',\n",
       "  [{'semi-finished bread'}],\n",
       "  [0.0704225352112676],\n",
       "  [1.0122309263844351]),\n",
       " ('pork',\n",
       "  [{'sausage', 'whole milk'}],\n",
       "  [0.06716417910447761],\n",
       "  [1.8107704719645015])]"
      ]
     },
     "execution_count": 22,
     "metadata": {},
     "output_type": "execute_result"
    }
   ],
   "source": [
    "generate_advanced_candidates(baskets[1], products, supports)[:5]"
   ]
  },
  {
   "cell_type": "code",
   "execution_count": 20,
   "metadata": {},
   "outputs": [
    {
     "name": "stdout",
     "output_type": "stream",
     "text": [
      "{'yogurt', 'photo/film', 'soda', 'tropical fruit', 'white wine', 'root vegetables', 'domestic eggs'}\n"
     ]
    },
    {
     "data": {
      "text/plain": [
       "[('rolls/buns',\n",
       "  {'root vegetables', 'tropical fruit'},\n",
       "  0.16363636363636364,\n",
       "  1.4875400419750358),\n",
       " ('whole milk', {'soda', 'yogurt'}, 0.16091954022988506, 1.0189754889800127),\n",
       " ('sausage', {'soda', 'yogurt'}, 0.11494252873563217, 1.904634615139827),\n",
       " ('sausage',\n",
       "  {'root vegetables', 'soda'},\n",
       "  0.11392405063291139,\n",
       "  1.887758105891753),\n",
       " ('pip fruit', {'white wine'}, 0.07428571428571427, 1.5143557804593226)]"
      ]
     },
     "execution_count": 20,
     "metadata": {},
     "output_type": "execute_result"
    }
   ],
   "source": [
    "print(baskets[33])\n",
    "generate_basic_candidates(baskets[33], products, supports)[:5]"
   ]
  },
  {
   "cell_type": "code",
   "execution_count": 19,
   "metadata": {},
   "outputs": [
    {
     "data": {
      "text/plain": [
       "[('rolls/buns',\n",
       "  [{'root vegetables', 'tropical fruit'}],\n",
       "  [0.16363636363636364],\n",
       "  [1.4875400419750358]),\n",
       " ('whole milk',\n",
       "  [{'soda', 'yogurt'}],\n",
       "  [0.16091954022988506],\n",
       "  [1.0189754889800127]),\n",
       " ('sausage',\n",
       "  [{'soda', 'yogurt'},\n",
       "   {'root vegetables', 'soda'},\n",
       "   {'white wine'},\n",
       "   {'yogurt'},\n",
       "   {'soda'}],\n",
       "  [0.11494252873563217,\n",
       "   0.11392405063291139,\n",
       "   0.06857142857142857,\n",
       "   0.06692607003891049,\n",
       "   0.06125258086717137],\n",
       "  [1.904634615139827,\n",
       "   1.887758105891753,\n",
       "   1.13625059326056,\n",
       "   1.1089864739670183,\n",
       "   1.0149749363405152]),\n",
       " ('pip fruit', [{'white wine'}], [0.07428571428571427], [1.5143557804593226]),\n",
       " ('citrus fruit',\n",
       "  [{'white wine'}, {'yogurt'}],\n",
       "  [0.057142857142857134, 0.053696498054474705],\n",
       "  [1.0755076370170706, 1.010642390426547])]"
      ]
     },
     "execution_count": 19,
     "metadata": {},
     "output_type": "execute_result"
    }
   ],
   "source": [
    "generate_advanced_candidates(baskets[33], products, supports)[:5]"
   ]
  },
  {
   "cell_type": "code",
   "execution_count": null,
   "metadata": {},
   "outputs": [],
   "source": []
  }
 ],
 "metadata": {
  "kernelspec": {
   "display_name": "Python 3 (ipykernel)",
   "language": "python",
   "name": "python3"
  },
  "language_info": {
   "codemirror_mode": {
    "name": "ipython",
    "version": 3
   },
   "file_extension": ".py",
   "mimetype": "text/x-python",
   "name": "python",
   "nbconvert_exporter": "python",
   "pygments_lexer": "ipython3",
   "version": "3.10.12"
  }
 },
 "nbformat": 4,
 "nbformat_minor": 4
}
