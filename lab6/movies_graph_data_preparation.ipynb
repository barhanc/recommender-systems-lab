{
 "cells": [
  {
   "cell_type": "markdown",
   "metadata": {},
   "source": [
    "# Cleaning the dataset for Lab 6\n",
    "Data source: https://www.kaggle.com/datasets/rounakbanik/the-movies-dataset/data\n"
   ]
  },
  {
   "cell_type": "code",
   "execution_count": 1,
   "metadata": {},
   "outputs": [],
   "source": [
    "from ast import literal_eval\n",
    "import pandas as pd\n",
    "\n",
    "users_threshold = 10\n",
    "movies_threshold = 10\n",
    "filter_neutral_scores = False"
   ]
  },
  {
   "cell_type": "code",
   "execution_count": null,
   "metadata": {},
   "outputs": [],
   "source": [
    "reviews = pd.read_csv('movies-dataset/ratings_small.csv', names=['userId', 'movieId', 'rating', 'time'], dtype={'userId': str, 'movieId': str, 'rating': int, 'time': str}, delimiter=',', engine='python', skiprows=1)\n",
    "reviews.drop(['time'], axis=1, inplace=True)\n",
    "if filter_neutral_scores:\n",
    "    reviews = reviews[(reviews.rating >= 4.0) | (reviews.rating <= 2.0)]\n",
    "\n",
    "reviews_no, _ = reviews.shape\n",
    "users = reviews.userId.unique()\n",
    "users_no = users.shape[0]\n",
    "movies = reviews.movieId.unique()\n",
    "movies_no = movies.shape[0]\n",
    "print(f'Got {reviews_no} entries for {users_no} users and {movies_no} movies')\n",
    "\n",
    "flag = True\n",
    "while flag:\n",
    "    reviews_no, _ = reviews.shape\n",
    "    reviews.where(reviews.movieId.map(reviews.movieId.value_counts()).gt(movies_threshold), inplace=True)\n",
    "    reviews.where(reviews.userId.map(reviews.userId.value_counts()).gt(users_threshold), inplace=True)\n",
    "    reviews.dropna(axis='index', how='any', inplace=True)\n",
    "    new_reviews_no, _ = reviews.shape\n",
    "    users_no = reviews.userId.unique().shape[0]\n",
    "    movies_no = reviews.movieId.unique().shape[0]\n",
    "    if reviews_no > new_reviews_no:\n",
    "        print(f'Number of entries reduced from {reviews_no} to {new_reviews_no} for {users_no} users and {movies_no} movies')\n",
    "    else:\n",
    "        flag = False\n",
    "        print(f'Reached the final number of {reviews_no} entries for {users_no} users and {movies_no} movies')\n",
    "\n",
    "reviews"
   ]
  },
  {
   "cell_type": "code",
   "execution_count": null,
   "metadata": {},
   "outputs": [],
   "source": [
    "def get_key(json_str, key):\n",
    "    try:\n",
    "        return literal_eval(json_str).get(key)\n",
    "    except:\n",
    "        return None\n",
    "\n",
    "def get_keys(json_str, key):\n",
    "    try:\n",
    "        return [entry.get(key) for entry in literal_eval(json_str)]\n",
    "    except:\n",
    "        return None\n",
    "\n",
    "\n",
    "movies_metadata = pd.read_csv('movies-dataset/movies_metadata.csv')[['id', 'original_title', 'belongs_to_collection', 'genres', 'production_countries', 'release_date']]\n",
    "movies_metadata.rename(columns={'id': 'movieId'}, inplace=True)\n",
    "movies_metadata['collection'] = movies_metadata['belongs_to_collection'].apply(lambda x: get_key(x, 'name'))\n",
    "movies_metadata.drop(['belongs_to_collection'], axis=1, inplace=True)\n",
    "movies_metadata['genres'] = movies_metadata['genres'].apply(lambda x: get_keys(x, 'name'))\n",
    "movies_metadata['production_countries'] = movies_metadata['production_countries'].apply(lambda x: get_keys(x, 'iso_3166_1'))\n",
    "movies_metadata['release_year'] = movies_metadata['release_date'].apply(lambda x: str(x).split('-')[0] if x else None)\n",
    "movies_metadata.drop(['release_date'], axis=1, inplace=True)\n",
    "\n",
    "movies = reviews.movieId.unique()\n",
    "movies_metadata = movies_metadata[movies_metadata['movieId'].isin(movies)]\n",
    "movies_metadata"
   ]
  },
  {
   "cell_type": "code",
   "execution_count": null,
   "metadata": {},
   "outputs": [],
   "source": [
    "def parse_cast(json_str):\n",
    "    try:\n",
    "        return [entry.get('name') for entry in literal_eval(json_str) if 'name' in entry]\n",
    "    except:\n",
    "        return None\n",
    "\n",
    "def get_cast_by_jobname(json_str, jobname):\n",
    "    try:\n",
    "        return [entry.get('name') for entry in literal_eval(json_str) if 'name' in entry and entry['job'] == jobname]\n",
    "    except:\n",
    "        return None\n",
    "\n",
    "movies_credits = pd.read_csv('movies-dataset/credits.csv', dtype={'cast': str, 'crew': str, 'id': str})\n",
    "movies_credits.rename(columns={'id': 'movieId'}, inplace=True)\n",
    "movies_credits = movies_credits[movies_credits['movieId'].isin(reviews.movieId.unique())]\n",
    "movies_credits['actors'] = movies_credits['cast'].apply(lambda x: parse_cast(x))\n",
    "movies_credits['director'] = movies_credits['crew'].apply(lambda x: get_cast_by_jobname(x, 'Director'))\n",
    "movies_credits['music'] = movies_credits['crew'].apply(lambda x: get_cast_by_jobname(x, 'Original Music Composer'))\n",
    "movies_credits['screenwriter'] = movies_credits['crew'].apply(lambda x: get_cast_by_jobname(x, 'Screenplay'))\n",
    "movies_credits.drop(['cast', 'crew'], axis=1, inplace=True)\n",
    "movies_credits"
   ]
  },
  {
   "cell_type": "code",
   "execution_count": 5,
   "metadata": {},
   "outputs": [],
   "source": [
    "# save .csv files\n",
    "reviews.to_csv('movies_graph/reviews.csv', index=False)\n",
    "movies_metadata.to_csv('movies_graph/metadata.csv', index=False)\n",
    "movies_credits.to_csv('movies_graph/credits.csv', index=False)"
   ]
  }
 ],
 "metadata": {
  "kernelspec": {
   "display_name": "Python 3",
   "language": "python",
   "name": "python3"
  },
  "language_info": {
   "codemirror_mode": {
    "name": "ipython",
    "version": 3
   },
   "file_extension": ".py",
   "mimetype": "text/x-python",
   "name": "python",
   "nbconvert_exporter": "python",
   "pygments_lexer": "ipython3",
   "version": "3.11.9"
  }
 },
 "nbformat": 4,
 "nbformat_minor": 2
}
